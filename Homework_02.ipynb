{
 "cells": [
  {
   "cell_type": "markdown",
   "metadata": {},
   "source": [
    "# Домашнее задание к уроку 02.\n",
    "_Е. Драгомирова_"
   ]
  },
  {
   "cell_type": "code",
   "execution_count": 1,
   "metadata": {},
   "outputs": [],
   "source": [
    "import numpy as np\n",
    "from sklearn import datasets\n",
    "import matplotlib.pyplot as plt\n",
    "\n",
    "%matplotlib inline\n",
    "import warnings\n",
    "warnings.filterwarnings('ignore')"
   ]
  },
  {
   "cell_type": "code",
   "execution_count": 2,
   "metadata": {},
   "outputs": [],
   "source": [
    "X = np.array([[ 1,  1],\n",
    "              [ 1,  1],\n",
    "              [ 1,  2],\n",
    "              [ 1,  5],\n",
    "              [ 1,  3],\n",
    "              [ 1,  0],\n",
    "              [ 1,  5],\n",
    "              [ 1, 10],\n",
    "              [ 1,  1],\n",
    "              [ 1,  2]])\n",
    "\n",
    "y = [45, 55, 50, 55, 60, 35, 75, 80, 50, 60]"
   ]
  },
  {
   "cell_type": "code",
   "execution_count": 3,
   "metadata": {},
   "outputs": [],
   "source": [
    "def calc_mse(y, y_pred):\n",
    "    mse = np.mean((y - y_pred)**2)\n",
    "    return mse"
   ]
  },
  {
   "cell_type": "markdown",
   "metadata": {},
   "source": [
    "#### 1. Постройте график зависимости весов всех признаков от lambda в самописной L2-регуляризации (на данных про ЕГЭ). Сделайте вывод"
   ]
  },
  {
   "cell_type": "code",
   "execution_count": 4,
   "metadata": {},
   "outputs": [],
   "source": [
    "def gd_model_l2 (X, y, eta=1e-2, iterations=3001, eta_corr=150, lambda_=1e-8, verbose=False):\n",
    "    W = np.array([1, 0.5])\n",
    "    \n",
    "    for i in range(iterations):\n",
    "        y_pred = np.dot(X, W)\n",
    "        mse = calc_mse(y, y_pred)\n",
    "        \n",
    "        W -= eta * (2 / len(y) * np.dot(X.T, y_pred - y) + lambda_ * W)\n",
    "        \n",
    "        if i % eta_corr == 0:\n",
    "            eta /= 1.1\n",
    "        \n",
    "        if verbose:\n",
    "            if i % 500 == 0:\n",
    "                print(f'Iteration #{i}: Weights = {W}, MSE = {round(mse,4)}')\n",
    "    return W"
   ]
  },
  {
   "cell_type": "code",
   "execution_count": 5,
   "metadata": {},
   "outputs": [
    {
     "name": "stdout",
     "output_type": "stream",
     "text": [
      "Iteration #0: Weights = [2.08 4.27], MSE = 3047.75\n",
      "Iteration #500: Weights = [44.05954184  3.99437099], MSE = 44.4485\n",
      "Iteration #1000: Weights = [44.99642744  3.82448124], MSE = 43.9708\n",
      "Iteration #1500: Weights = [45.05341088  3.81414817], MSE = 43.9688\n",
      "Iteration #2000: Weights = [45.0603327  3.812893 ], MSE = 43.9688\n",
      "Iteration #2500: Weights = [45.06173891  3.81263801], MSE = 43.9688\n",
      "Iteration #3000: Weights = [45.06214519  3.81256434], MSE = 43.9688\n"
     ]
    },
    {
     "data": {
      "text/plain": [
       "array([45.06214519,  3.81256434])"
      ]
     },
     "execution_count": 5,
     "metadata": {},
     "output_type": "execute_result"
    }
   ],
   "source": [
    "gd_model_l2(X, y, eta=1e-2, iterations=3001, eta_corr=150, lambda_=1e-8, verbose=True)"
   ]
  },
  {
   "cell_type": "code",
   "execution_count": 6,
   "metadata": {},
   "outputs": [],
   "source": [
    "lambda_list = np.array([1e-8, 1e-4, 1e-2, 1, 5, 10, 20])\n",
    "w_list = []"
   ]
  },
  {
   "cell_type": "code",
   "execution_count": 7,
   "metadata": {},
   "outputs": [],
   "source": [
    "for lmbd in lambda_list:\n",
    "    w = gd_model_l2(X, y, eta=1e-2, iterations=3001, eta_corr=150, lambda_=lmbd)\n",
    "    w_list.append(w)\n",
    "\n",
    "w_list = np.array(w_list)"
   ]
  },
  {
   "cell_type": "code",
   "execution_count": 8,
   "metadata": {},
   "outputs": [
    {
     "data": {
      "image/png": "[encoded data removed]",
      "text/plain": [
       "<Figure size 720x288 with 1 Axes>"
      ]
     },
     "metadata": {
      "needs_background": "light"
     },
     "output_type": "display_data"
    }
   ],
   "source": [
    "plt.figure(figsize=(10, 4))\n",
    "\n",
    "for i in range(len(w_list[0])):\n",
    "    plt.plot(lambda_list, w_list[:, i])\n",
    "\n",
    "plt.xlabel('lambda')\n",
    "plt.ylabel('weights')\n",
    "plt.show()"
   ]
  },
  {
   "cell_type": "markdown",
   "metadata": {},
   "source": [
    "#### 2. Напишите функцию наподобие gradient_descent_reg_l2, но для применения L1-регуляризации."
   ]
  },
  {
   "cell_type": "code",
   "execution_count": 9,
   "metadata": {},
   "outputs": [],
   "source": [
    "def gd_model_l1 (X, y, eta=1e-2, iterations=3001, eta_corr=150, lambda_=1e-8, verbose=False):\n",
    "    W = np.array([1, 0.5])\n",
    "    \n",
    "    for i in range(iterations):\n",
    "        y_pred = np.dot(X, W)\n",
    "        mse = calc_mse(y, y_pred)\n",
    "        \n",
    "        W -= eta * (2 / len(y) * np.dot(X.T, y_pred - y) + lambda_ * np.sign(W))\n",
    "        \n",
    "        if i % eta_corr == 0:\n",
    "            eta /= 1.1\n",
    "        \n",
    "        if verbose:\n",
    "            if i % 500 == 0:\n",
    "                print(f'Iteration #{i}: Weights = {W}, MSE = {round(mse,4)}')\n",
    "    return W"
   ]
  },
  {
   "cell_type": "code",
   "execution_count": 10,
   "metadata": {},
   "outputs": [],
   "source": [
    "lambda_list = np.array([1e-8, 1e-4, 1e-2, 1, 5, 10, 20])\n",
    "w_list = []"
   ]
  },
  {
   "cell_type": "code",
   "execution_count": 11,
   "metadata": {},
   "outputs": [],
   "source": [
    "for lmbd in lambda_list:\n",
    "    w = gd_model_l1(X, y, eta=1e-2, iterations=3001, eta_corr=150, lambda_=lmbd)\n",
    "    w_list.append(w)\n",
    "\n",
    "w_list = np.array(w_list)"
   ]
  },
  {
   "cell_type": "code",
   "execution_count": 12,
   "metadata": {},
   "outputs": [
    {
     "data": {
      "image/png": "[encoded data removed]",
      "text/plain": [
       "<Figure size 720x288 with 1 Axes>"
      ]
     },
     "metadata": {
      "needs_background": "light"
     },
     "output_type": "display_data"
    }
   ],
   "source": [
    "plt.figure(figsize=(10, 4))\n",
    "\n",
    "for i in range(len(w_list[0])):\n",
    "    plt.plot(lambda_list, w_list[:, i])\n",
    "\n",
    "plt.xlabel('lambda')\n",
    "plt.ylabel('weights')\n",
    "plt.show()"
   ]
  },
  {
   "cell_type": "markdown",
   "metadata": {},
   "source": [
    "#### *3. Можно ли к одному и тому же признаку применить сразу и нормализацию, и стандартизацию?"
   ]
  },
  {
   "cell_type": "markdown",
   "metadata": {},
   "source": [
    "Можно, но бессмысленно."
   ]
  },
  {
   "cell_type": "markdown",
   "metadata": {},
   "source": [
    "#### *4. Сгенерируйте датасет при помощи <code>sklearn.datasets.make_regression</code> и обучите линейную модель при помощи градиентного и стохастического градиентного спуска. Нанесите среднеквадратичную ошибку для обоих методов на один график, сделайте выводы о разнице скорости сходимости каждого из методов."
   ]
  },
  {
   "cell_type": "code",
   "execution_count": 13,
   "metadata": {},
   "outputs": [],
   "source": [
    "X, Y, coef = datasets.make_regression(n_samples=2000, n_features=2, n_informative=2, n_targets=1, \n",
    "                                      noise=5, coef=True, random_state=2)\n",
    "X[:, 0] *= 10"
   ]
  },
  {
   "cell_type": "code",
   "execution_count": 171,
   "metadata": {},
   "outputs": [],
   "source": [
    "def gradient_descent(X, y, eta=1e-2, iterations=5001, eta_corr=100, verbose=False):\n",
    "    W = np.random.randn(X.shape[1])\n",
    "    n = X.shape[0]\n",
    "    gd_mse = []\n",
    "    \n",
    "    for i in range(iterations):\n",
    "        y_pred = np.dot(X, W)\n",
    "        mse = calc_mse(y, y_pred)\n",
    "        gd_mse.append([i, mse, 4])\n",
    "        \n",
    "        W -= eta * (2 / n * np.dot(X.T, y_pred - y))\n",
    "        \n",
    "        if i % eta_corr == 0:\n",
    "            eta /= 1.1\n",
    "        \n",
    "        if verbose:\n",
    "            if i % 100 == 0:\n",
    "                print(f'Iteration #{i}: Weights = {W}, MSE = {round(mse,6)}')\n",
    "        \n",
    "    gd_mse = np.array(gd_mse)\n",
    "    \n",
    "    return gd_mse"
   ]
  },
  {
   "cell_type": "code",
   "execution_count": 151,
   "metadata": {},
   "outputs": [],
   "source": [
    "def stohastic_gradient_descent(X, y, eta=1e-2, iterations=5001, eta_corr=100, batch_size=5, verbose=False):\n",
    "    W = np.random.randn(X.shape[1])\n",
    "    n = X.shape[0]\n",
    "    sgd_mse = []\n",
    "    \n",
    "    n_batch = n // batch_size    \n",
    "    if n % batch_size != 0:\n",
    "        n_batch += 1\n",
    "    # print(f'amount of batches is {n_batch}')\n",
    "    \n",
    "    for i in range(iterations):\n",
    "        \n",
    "        for b in range(n_batch):\n",
    "            start = batch_size * b\n",
    "            end = batch_size * (b + 1)\n",
    "            \n",
    "            X_tmp = X[start : end, ]\n",
    "            y_tmp = y[start : end]\n",
    "            \n",
    "            y_pred_tmp = np.dot(X_tmp, W)\n",
    "            mse = calc_mse(y_tmp, y_pred_tmp)\n",
    "            sgd_mse.append([i, mse])\n",
    "        \n",
    "            W -= eta * (2/len(y_tmp) * np.dot(X_tmp.T, y_pred_tmp - y_tmp))\n",
    "        \n",
    "        if i % eta_corr == 0:\n",
    "            eta /= 1.1\n",
    "        \n",
    "        if verbose:\n",
    "            if i % 100 == 0:\n",
    "                print(f'Iteration #{i}: Weights = {W}, MSE = {round(mse,6)}')\n",
    "    \n",
    "    sgd_mse = np.array(sgd_mse)\n",
    "        \n",
    "    return sgd_mse"
   ]
  },
  {
   "cell_type": "code",
   "execution_count": 172,
   "metadata": {},
   "outputs": [
    {
     "name": "stdout",
     "output_type": "stream",
     "text": [
      "Iteration #0: Weights = [15.35210535  1.24996757], MSE = 6902.385747\n",
      "Iteration #100: Weights = [ 7.49802861 29.60550293], MSE = 53.252307\n",
      "Iteration #200: Weights = [ 7.50124648 33.86661486], MSE = 25.497932\n",
      "Iteration #300: Weights = [ 7.50181961 34.62333602], MSE = 24.567571\n",
      "Iteration #400: Weights = [ 7.50193799 34.77964076], MSE = 24.525183\n",
      "Iteration #500: Weights = [ 7.50196603 34.81666397], MSE = 24.522633\n",
      "Iteration #600: Weights = [ 7.50197355 34.82659225], MSE = 24.522436\n",
      "Iteration #700: Weights = [ 7.50197581 34.82957171], MSE = 24.522417\n",
      "Iteration #800: Weights = [ 7.50197656 34.83056189], MSE = 24.522415\n",
      "Iteration #900: Weights = [ 7.50197683 34.83092286], MSE = 24.522414\n",
      "Iteration #1000: Weights = [ 7.50197694 34.83106597], MSE = 24.522414\n"
     ]
    }
   ],
   "source": [
    "gd_mse = gradient_descent(X, Y, eta=1e-2, iterations=1001, eta_corr=100, verbose=True)"
   ]
  },
  {
   "cell_type": "code",
   "execution_count": 164,
   "metadata": {},
   "outputs": [
    {
     "name": "stdout",
     "output_type": "stream",
     "text": [
      "Iteration #0: Weights = [ 9.89385945 35.76705386], MSE = 264.214572\n",
      "Iteration #100: Weights = [ 9.71054712 35.23053883], MSE = 176.980324\n",
      "Iteration #200: Weights = [ 9.50717066 34.82324914], MSE = 116.211477\n",
      "Iteration #300: Weights = [ 9.29299613 34.65337875], MSE = 75.235426\n",
      "Iteration #400: Weights = [ 9.09915046 34.58964912], MSE = 50.48169\n",
      "Iteration #500: Weights = [ 8.92910408 34.57626229], MSE = 35.967549\n",
      "Iteration #600: Weights = [ 8.77992688 34.58679131], MSE = 27.623737\n",
      "Iteration #700: Weights = [ 8.64759594 34.60763554], MSE = 23.009118\n",
      "Iteration #800: Weights = [ 8.52869213 34.63205106], MSE = 20.702828\n",
      "Iteration #900: Weights = [ 8.42079389 34.65677528], MSE = 19.867371\n",
      "Iteration #1000: Weights = [ 8.32233195 34.68019764], MSE = 19.988228\n"
     ]
    }
   ],
   "source": [
    "sgd_mse = stohastic_gradient_descent(X, Y, eta=1e-2, iterations=1001, eta_corr=100, batch_size=5, verbose=True)"
   ]
  },
  {
   "cell_type": "code",
   "execution_count": 209,
   "metadata": {
    "scrolled": false
   },
   "outputs": [
    {
     "data": {
      "image/png": "[encoded data removed]",
      "text/plain": [
       "<Figure size 1080x360 with 2 Axes>"
      ]
     },
     "metadata": {
      "needs_background": "light"
     },
     "output_type": "display_data"
    }
   ],
   "source": [
    "fig, (ax1, ax2) = plt.subplots(1, 2, figsize=(15, 5))\n",
    "fig.subplots_adjust(hspace=0.7)\n",
    "\n",
    "ax1.plot(gd_mse[:, 0], gd_mse[:, 1])\n",
    "ax1.set_xlabel('Iterations')\n",
    "ax1.set_ylabel('MSE')\n",
    "ax1.set_title('Gradient descent')\n",
    "\n",
    "ax2.plot(sgd_mse[:, 0], sgd_mse[:, 1])\n",
    "ax2.set_xlabel('Iterations')\n",
    "ax2.set_ylabel('MSE')\n",
    "ax2.set_title('Stohastic gradient descent')\n",
    "\n",
    "plt.show()"
   ]
  },
  {
   "cell_type": "code",
   "execution_count": 207,
   "metadata": {},
   "outputs": [
    {
     "data": {
      "image/png": "[encoded data removed]",
      "text/plain": [
       "<Figure size 1080x288 with 1 Axes>"
      ]
     },
     "metadata": {
      "needs_background": "light"
     },
     "output_type": "display_data"
    }
   ],
   "source": [
    "plt.figure(figsize=(15, 4))\n",
    "\n",
    "plt.plot(gd_mse[:, 0], gd_mse[:, 1])\n",
    "plt.plot(sgd_mse[:, 0], sgd_mse[:, 1])\n",
    "\n",
    "plt.xlabel('Iterations')\n",
    "plt.ylabel('MSE')\n",
    "plt.show()"
   ]
  }
 ],
 "metadata": {
  "kernelspec": {
   "display_name": "Python 3",
   "language": "python",
   "name": "python3"
  },
  "language_info": {
   "codemirror_mode": {
    "name": "ipython",
    "version": 3
   },
   "file_extension": ".py",
   "mimetype": "text/x-python",
   "name": "python",
   "nbconvert_exporter": "python",
   "pygments_lexer": "ipython3",
   "version": "3.7.6"
  }
 },
 "nbformat": 4,
 "nbformat_minor": 4
}
